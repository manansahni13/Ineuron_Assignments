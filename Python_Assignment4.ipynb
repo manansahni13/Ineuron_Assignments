{
  "nbformat": 4,
  "nbformat_minor": 0,
  "metadata": {
    "colab": {
      "name": "Python_Assignment4",
      "provenance": []
    },
    "kernelspec": {
      "name": "python3",
      "display_name": "Python 3"
    },
    "language_info": {
      "name": "python"
    }
  },
  "cells": [
    {
      "cell_type": "code",
      "metadata": {
        "colab": {
          "base_uri": "https://localhost:8080/"
        },
        "id": "egUFpmpEoKM0",
        "outputId": "9e117a4d-bd2c-4571-8d38-5085a2cad333"
      },
      "source": [
        "# 1.1 Write a Python Program(with class concepts) to find the area of the triangle using the below  formula. \n",
        "# area = (s*(s-a)*(s-b)*(s-c)) ** 0.5 \n",
        "# Function to take the length of the sides of triangle from user should be defined in the parent  class\n",
        "#and function to calculate the area should be defined in subclass. \n",
        "\n",
        "class Shape():\n",
        "  def __init__(self):\n",
        "    a=int(input(\"Enter 1st side of triangle \"))\n",
        "    b=int(input(\"Enter 2nd side of triangle \"))\n",
        "    c=int(input(\"Enter 3rd side of triangle \"))\n",
        "    self.a=a\n",
        "    self.b=b\n",
        "    self.c=c\n",
        "\n",
        "class Triangle(Shape):\n",
        "  def __init__(self):\n",
        "    super().__init__()\n",
        "  \n",
        "  def area(self):\n",
        "    s=(self.a+self.b+self.c)/2\n",
        "    area=(s*(s-self.a)*(s-self.b)*(s-self.c))**0.5\n",
        "    return area\n",
        "\n",
        "triangle=Triangle()\n",
        "area_of_triangle=triangle.area()\n",
        "print(area_of_triangle)\n",
        "    \n",
        "\n",
        "\n"
      ],
      "execution_count": 1,
      "outputs": [
        {
          "output_type": "stream",
          "text": [
            "Enter 1st side of triangle 3\n",
            "Enter 2nd side of triangle 4\n",
            "Enter 3rd side of triangle 5\n",
            "6.0\n"
          ],
          "name": "stdout"
        }
      ]
    },
    {
      "cell_type": "code",
      "metadata": {
        "colab": {
          "base_uri": "https://localhost:8080/"
        },
        "id": "JLMgng4tl0bA",
        "outputId": "4b04cd6d-6bf2-4dac-c948-dcd85b5cda20"
      },
      "source": [
        "# 1.2 Write a function filter_long_words() that takes a list of words and an integer n and returns  the list of words that are longer than n. \n",
        "\n",
        "def filter_long_words(arr, n):\n",
        "  return [i for i in arr if len(i)>n]\n",
        "\n",
        "long_words=[\"manan\",\"cat\",\"food\",\"bar\",\"football\",\"tennis\",\"cricket\"]\n",
        "n=3\n",
        "\n",
        "filtered_words=filter_long_words(long_words, n)\n",
        "print(filtered_words)"
      ],
      "execution_count": 2,
      "outputs": [
        {
          "output_type": "stream",
          "text": [
            "['manan', 'food', 'football', 'tennis', 'cricket']\n"
          ],
          "name": "stdout"
        }
      ]
    },
    {
      "cell_type": "code",
      "metadata": {
        "colab": {
          "base_uri": "https://localhost:8080/"
        },
        "id": "l4eY3nGEmYNn",
        "outputId": "19e7557c-82d8-47af-c6bf-da5795022817"
      },
      "source": [
        "# 2.1 Write a Python program using function concept that maps list of words into a list of integers  \n",
        "#representing the lengths of the corresponding words. \n",
        "\n",
        "def words_to_integer(arr):\n",
        "  return [len(i) for i in arr]\n",
        "\n",
        "words=[\"manan\",\"cat\",\"food\",\"bar\",\"football\",\"tennis\",\"cricket\"]\n",
        "\n",
        "converted_list=words_to_integer(words)\n",
        "print(converted_list)"
      ],
      "execution_count": 3,
      "outputs": [
        {
          "output_type": "stream",
          "text": [
            "[5, 3, 4, 3, 8, 6, 7]\n"
          ],
          "name": "stdout"
        }
      ]
    },
    {
      "cell_type": "code",
      "metadata": {
        "colab": {
          "base_uri": "https://localhost:8080/"
        },
        "id": "BX3BC8ZLnDo1",
        "outputId": "744a7b27-5101-4003-cfb2-28b6c79fad86"
      },
      "source": [
        "# 2.2 Write a Python function which takes a character (i.e. a string of length 1) and returns True if  it is a vowel, False otherwise. \n",
        "\n",
        "def check_vowel(ch):\n",
        "  if ch=='a'or ch=='e'or ch=='i'or ch=='o'or ch=='u':\n",
        "    return True\n",
        "  return False\n",
        "\n",
        "print(check_vowel('a'))\n",
        "print(check_vowel('l'))"
      ],
      "execution_count": 4,
      "outputs": [
        {
          "output_type": "stream",
          "text": [
            "True\n",
            "False\n"
          ],
          "name": "stdout"
        }
      ]
    },
    {
      "cell_type": "code",
      "metadata": {
        "id": "Q-MfeowynxlJ"
      },
      "source": [
        ""
      ],
      "execution_count": null,
      "outputs": []
    }
  ]
}