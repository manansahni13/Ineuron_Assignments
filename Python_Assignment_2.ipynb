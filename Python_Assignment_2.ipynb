{
  "nbformat": 4,
  "nbformat_minor": 0,
  "metadata": {
    "colab": {
      "name": "Python Assignment 2.ipynb",
      "provenance": []
    },
    "kernelspec": {
      "name": "python3",
      "display_name": "Python 3"
    },
    "language_info": {
      "name": "python"
    }
  },
  "cells": [
    {
      "cell_type": "code",
      "metadata": {
        "colab": {
          "base_uri": "https://localhost:8080/"
        },
        "id": "jN7XZgrgYlQc",
        "outputId": "2e2a1b83-9fc3-4c9b-8250-69590e63692f"
      },
      "source": [
        "#1. Write a program which accepts a sequence of comma-separated numbers from console  and generate a list. \n",
        "x=input(\"Enter the no in comma seperated numbers \")\n",
        "l=x.split(',')\n",
        "print(l)"
      ],
      "execution_count": 1,
      "outputs": [
        {
          "output_type": "stream",
          "text": [
            "Enter the no in comma seperated numbers 7,9,10,22,24,56\n",
            "['7', '9', '10', '22', '24', '56']\n"
          ],
          "name": "stdout"
        }
      ]
    },
    {
      "cell_type": "code",
      "metadata": {
        "colab": {
          "base_uri": "https://localhost:8080/"
        },
        "id": "6M-aNwy4ZkNG",
        "outputId": "39500075-1d0f-4cf9-deea-c6852762ba5a"
      },
      "source": [
        "# 2. Create the below pattern using nested for loop in Python. \n",
        "# * \n",
        "# * * \n",
        "# * * * \n",
        "# * * * * \n",
        "# * * * * * \n",
        "# * * * * \n",
        "# * * * \n",
        "# * * \n",
        "# * \n",
        "n=int(input(\"Enter no of rows \"))\n",
        "for row in range(0,n+1):\n",
        "  for col in range(0,row+1):\n",
        "    print(\"*\",end=' ')\n",
        "  print()\n",
        "for row in range(n,0,-1):\n",
        "  for col in range(0,row):\n",
        "    print(\"*\",end=\" \")\n",
        "  print()"
      ],
      "execution_count": 2,
      "outputs": [
        {
          "output_type": "stream",
          "text": [
            "Enter no of rows 5\n",
            "* \n",
            "* * \n",
            "* * * \n",
            "* * * * \n",
            "* * * * * \n",
            "* * * * * * \n",
            "* * * * * \n",
            "* * * * \n",
            "* * * \n",
            "* * \n",
            "* \n"
          ],
          "name": "stdout"
        }
      ]
    },
    {
      "cell_type": "code",
      "metadata": {
        "colab": {
          "base_uri": "https://localhost:8080/"
        },
        "id": "JSGFwrT7azP0",
        "outputId": "61fe65fb-2c6a-4880-c7a9-c818f4f9d9ca"
      },
      "source": [
        "# 3. Write a Python program to reverse a word after accepting the input from the user. Sample Output: \n",
        "# Input word: ineuron \n",
        "# Output: norueni\n",
        "\n",
        "word=input(\"Enter the word \")\n",
        "reverse_word=word[::-1]\n",
        "print(reverse_word)"
      ],
      "execution_count": 4,
      "outputs": [
        {
          "output_type": "stream",
          "text": [
            "Enter the word ineuron\n",
            "norueni\n"
          ],
          "name": "stdout"
        }
      ]
    },
    {
      "cell_type": "code",
      "metadata": {
        "id": "BpJTpiYdfCbH"
      },
      "source": [
        ""
      ],
      "execution_count": null,
      "outputs": []
    }
  ]
}